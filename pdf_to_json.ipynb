{
 "cells": [
  {
   "cell_type": "code",
   "execution_count": 2,
   "id": "b539725b",
   "metadata": {},
   "outputs": [
    {
     "name": "stderr",
     "output_type": "stream",
     "text": [
      "/home/notebook-user/.local/lib/python3.12/site-packages/tqdm/auto.py:21: TqdmWarning: IProgress not found. Please update jupyter and ipywidgets. See https://ipywidgets.readthedocs.io/en/stable/user_install.html\n",
      "  from .autonotebook import tqdm as notebook_tqdm\n"
     ]
    }
   ],
   "source": [
    "from unstructured.partition.pdf import partition_pdf\n",
    "from unstructured.staging.base import elements_to_json"
   ]
  },
  {
   "cell_type": "code",
   "execution_count": 4,
   "id": "6d262d33",
   "metadata": {},
   "outputs": [],
   "source": [
    "pdf_path = \"/app/pdf/PDF_File/Sustainability_Management_Policy_CTBC.pdf\"\n",
    "json_path = \"/app/pdf/JSON_File/Sustainability_Management_Policy_CTBC.json\""
   ]
  },
  {
   "cell_type": "code",
   "execution_count": 5,
   "id": "156444c0",
   "metadata": {},
   "outputs": [
    {
     "name": "stdout",
     "output_type": "stream",
     "text": [
      "pdf to json\n"
     ]
    }
   ],
   "source": [
    "elements = partition_pdf(filename = pdf_path)\n",
    "\n",
    "elements_to_json(elements = elements, filename = json_path)\n",
    "\n",
    "print(\"pdf to json\")"
   ]
  }
 ],
 "metadata": {
  "kernelspec": {
   "display_name": "Python 3",
   "language": "python",
   "name": "python3"
  },
  "language_info": {
   "codemirror_mode": {
    "name": "ipython",
    "version": 3
   },
   "file_extension": ".py",
   "mimetype": "text/x-python",
   "name": "python",
   "nbconvert_exporter": "python",
   "pygments_lexer": "ipython3",
   "version": "3.12.11"
  }
 },
 "nbformat": 4,
 "nbformat_minor": 5
}
